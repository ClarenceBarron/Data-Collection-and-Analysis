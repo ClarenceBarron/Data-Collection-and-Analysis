{
 "cells": [
  {
   "cell_type": "markdown",
   "metadata": {},
   "source": [
    "<center><h1> CPE 4040 Spring 2023: Homework 3</h1></center>"
   ]
  },
  {
   "cell_type": "markdown",
   "metadata": {},
   "source": [
    "1. Write your answer in the cell provided under each question.\n",
    "2. __Important: Write comments__ in the code to explain your thoughts. __You may lose points without comments.__\n",
    "3. Show your execution result. \n",
    "4. Do your own work. __Do not copy and paste other people's (or AI's) codes.__    \n",
    "\n",
    "### Submission:\n",
    " * __Submit this notebook file and the pdf version__ - remember to add your name in the filename.\n",
    " * Deadline: 11:59 pm, 2/15 (Wednesday)"
   ]
  },
  {
   "cell_type": "markdown",
   "metadata": {},
   "source": [
    "### Q1: Functions and Lambda (10 Points)\n",
    "\n",
    "Q1.1: Use the sorted( ) function to sort the tuples in the list based on the second item (that is, the state name), in ascending order alphabetically. You will write a small function, \"second\", to achieve this purpose. "
   ]
  },
  {
   "cell_type": "code",
   "execution_count": 1,
   "metadata": {},
   "outputs": [],
   "source": [
    "state=[(19542209, \"New York\") ,(4887871, \"Alabama\"), (1420491, \"Hawaii\"), \n",
    "       (626299, \"Vermont\"), (1805832, \"West Virginia\"), (39865590, \"California\")]"
   ]
  },
  {
   "cell_type": "code",
   "execution_count": 2,
   "metadata": {},
   "outputs": [
    {
     "name": "stdout",
     "output_type": "stream",
     "text": [
      "[(4887871, 'Alabama'), (39865590, 'California'), (1420491, 'Hawaii'), (19542209, 'New York'), (626299, 'Vermont'), (1805832, 'West Virginia')]\n"
     ]
    }
   ],
   "source": [
    "def second(item):\n",
    "    return item[1]  \n",
    "\n",
    "sortedState = sorted(state, key=second)\n",
    "\n",
    "print(sortedState)"
   ]
  },
  {
   "cell_type": "markdown",
   "metadata": {},
   "source": [
    "Q1.2 Perform the same task as in Q1.1, however, you will write a lambda function to replace \"second\". "
   ]
  },
  {
   "cell_type": "code",
   "execution_count": 3,
   "metadata": {},
   "outputs": [
    {
     "name": "stdout",
     "output_type": "stream",
     "text": [
      "[(4887871, 'Alabama'), (39865590, 'California'), (1420491, 'Hawaii'), (19542209, 'New York'), (626299, 'Vermont'), (1805832, 'West Virginia')]\n"
     ]
    }
   ],
   "source": [
    "sortedState = sorted(state, key=lambda item: item[1])\n",
    "\n",
    "print(sortedState)"
   ]
  },
  {
   "cell_type": "markdown",
   "metadata": {},
   "source": [
    "Q1.3 Use the sorted( ) function and lambda to sort the tuples in the list based on the __last character of the second items.__"
   ]
  },
  {
   "cell_type": "code",
   "execution_count": 4,
   "metadata": {},
   "outputs": [
    {
     "name": "stdout",
     "output_type": "stream",
     "text": [
      "[(4887871, 'Alabama'), (1805832, 'West Virginia'), (39865590, 'California'), (1420491, 'Hawaii'), (19542209, 'New York'), (626299, 'Vermont')]\n"
     ]
    }
   ],
   "source": [
    "sortedState = sorted(state, key=lambda item: item[1][-1])\n",
    "\n",
    "print(sortedState)"
   ]
  },
  {
   "cell_type": "markdown",
   "metadata": {},
   "source": [
    "### Q2: List Comprehension vs. Map/Filter + Lambda (15 Points)\n",
    "For each question below, use both list comprehension and Python map( ) or filter( ) function. Use __%%timeit__ magic command to profile the computation time. Make some comments about the profiling results."
   ]
  },
  {
   "cell_type": "markdown",
   "metadata": {},
   "source": [
    "#### Q2.1 For each of the floating number in the list, calcuate the __square__ of it and __round__ the result to 2 decimal places. "
   ]
  },
  {
   "cell_type": "code",
   "execution_count": 5,
   "metadata": {},
   "outputs": [],
   "source": [
    "num = [4.35, 6.09, 3.25, 9.77, 2.16, 8.88, 4.59]"
   ]
  },
  {
   "cell_type": "code",
   "execution_count": 6,
   "metadata": {},
   "outputs": [
    {
     "name": "stdout",
     "output_type": "stream",
     "text": [
      "[18.92, 37.09, 10.56, 95.45, 4.67, 78.85, 21.07]\n"
     ]
    }
   ],
   "source": [
    "# Use List Comprehension first\n",
    "squares = [round(x**2, 2) for x in num]\n",
    "\n",
    "print(squares)"
   ]
  },
  {
   "cell_type": "code",
   "execution_count": 7,
   "metadata": {},
   "outputs": [
    {
     "name": "stdout",
     "output_type": "stream",
     "text": [
      "[18.92, 37.09, 10.56, 95.45, 4.67, 78.85, 21.07]\n"
     ]
    }
   ],
   "source": [
    "# Use map() function\n",
    "squares = list(map(lambda x: round(x**2, 2), num))\n",
    "\n",
    "print(squares)"
   ]
  },
  {
   "cell_type": "code",
   "execution_count": 8,
   "metadata": {},
   "outputs": [
    {
     "name": "stdout",
     "output_type": "stream",
     "text": [
      "3.74 µs ± 66.7 ns per loop (mean ± std. dev. of 7 runs, 100000 loops each)\n"
     ]
    }
   ],
   "source": [
    "%%timeit \n",
    "## Profile the computation time for both methods\n",
    "#list comprehension\n",
    "squares = [round(x**2, 2) for x in num]"
   ]
  },
  {
   "cell_type": "code",
   "execution_count": 9,
   "metadata": {},
   "outputs": [
    {
     "name": "stdout",
     "output_type": "stream",
     "text": [
      "4.36 µs ± 54.2 ns per loop (mean ± std. dev. of 7 runs, 100000 loops each)\n"
     ]
    }
   ],
   "source": [
    "%%timeit\n",
    "#Map Function\n",
    "squares = list(map(lambda x: round(x**2, 2), num))"
   ]
  },
  {
   "cell_type": "markdown",
   "metadata": {},
   "source": [
    "#### Q2.2 For each of the name in the list, print only the names with less than 7 letters."
   ]
  },
  {
   "cell_type": "code",
   "execution_count": 10,
   "metadata": {},
   "outputs": [],
   "source": [
    "names = [\"olumide\", \"akinremi\", \"alex\", \"josiah\", \"john\", \"temidayo\", \"emily\", \"omoseun\"]"
   ]
  },
  {
   "cell_type": "code",
   "execution_count": 11,
   "metadata": {},
   "outputs": [
    {
     "name": "stdout",
     "output_type": "stream",
     "text": [
      "['alex', 'josiah', 'john', 'emily']\n"
     ]
    }
   ],
   "source": [
    "# Use List Comprehension first\n",
    "lessThanSeven = [name for name in names if len(name) < 7]\n",
    "\n",
    "print(lessThanSeven)"
   ]
  },
  {
   "cell_type": "code",
   "execution_count": 12,
   "metadata": {},
   "outputs": [
    {
     "name": "stdout",
     "output_type": "stream",
     "text": [
      "['alex', 'josiah', 'john', 'emily']\n"
     ]
    }
   ],
   "source": [
    "# Use filter() function\n",
    "\n",
    "filterSeven = list(filter(lambda name: len(name) < 7, names))\n",
    "\n",
    "print(filterSeven)"
   ]
  },
  {
   "cell_type": "code",
   "execution_count": 13,
   "metadata": {},
   "outputs": [
    {
     "name": "stdout",
     "output_type": "stream",
     "text": [
      "461 ns ± 6.6 ns per loop (mean ± std. dev. of 7 runs, 1000000 loops each)\n"
     ]
    }
   ],
   "source": [
    "%%timeit\n",
    "## Profile the computation time for both methods\n",
    "#List Comprehension\n",
    "lessThanSeven = [name for name in names if len(name) < 7]"
   ]
  },
  {
   "cell_type": "code",
   "execution_count": 14,
   "metadata": {},
   "outputs": [
    {
     "name": "stdout",
     "output_type": "stream",
     "text": [
      "939 ns ± 5.58 ns per loop (mean ± std. dev. of 7 runs, 1000000 loops each)\n"
     ]
    }
   ],
   "source": [
    "%%timeit\n",
    "#filter function\n",
    "filterSeven = list(filter(lambda name: len(name) < 7, names))"
   ]
  },
  {
   "cell_type": "markdown",
   "metadata": {},
   "source": [
    "### Q3: Dictionary Operations (20 Points)\n",
    "\n",
    "#### Q3.1 Nested Dictionary\n",
    "KSU wants to create a dictionary for each class to hold the following faculty and student information:\n",
    "   * for faculty: name only\n",
    "   * for each student: 1. name, 2. grades for two assignments: Homework and Midterm\n",
    "    \n",
    "Dr. Yiin teaches a class with 2 students (really great faculty/student ratio!), but he needs your help to construct a Python directory. Please finish what he started below.\n",
    "\n",
    "Use the following information for student 1 and 2.\n",
    "   * Student 1: name: Kramer, grades: homework 90, midterm 80\n",
    "   * Student 2: name: Kelly, grades: homework 96, midterm 87\n",
    "\n",
    "Print out the following information:\n",
    "   1. The Mid-term grade of Cramer\n",
    "   2. The names of the two students  "
   ]
  },
  {
   "cell_type": "code",
   "execution_count": 15,
   "metadata": {},
   "outputs": [
    {
     "name": "stdout",
     "output_type": "stream",
     "text": [
      "Kramer's Mid Term Score: 80\n",
      "Students in the Class:\n",
      "Kramer\n",
      "Kelly\n"
     ]
    }
   ],
   "source": [
    "classroom = {\n",
    "    'faculty': 'Dr. Yiin',\n",
    "    'students': [ \n",
    "        {   'name': 'Kramer',\n",
    "            'grades': {\n",
    "                'homework': 90,\n",
    "                'midterm': 80}},\n",
    "        {   'name': 'Kelly',\n",
    "            'grades': {\n",
    "                'homework': 96,\n",
    "                'midterm': 87 }}\n",
    "        ]}\n",
    "\n",
    "print(\"Kramer's Mid Term Score:\", classroom['students'][0]['grades']['midterm'])\n",
    "\n",
    "\n",
    "print(\"Students in the Class:\")\n",
    "for student in classroom['students']:\n",
    "    print(student['name'])"
   ]
  },
  {
   "cell_type": "markdown",
   "metadata": {},
   "source": [
    "#### Q3.2 Shopping Lists\n",
    "You are given two shopping lists (with items and quantity), one from your mom and one for yourself:\n",
    " * mom's list: banana 5, avacodo 8, eggs 12, milk 2, orange 6\n",
    " * your list: Red Bull 12, potato chips 5, pineapple 3, eggs 6, avacodo 4\n",
    "        \n",
    "Please construct two dictionaries, one for each shopping list."
   ]
  },
  {
   "cell_type": "code",
   "execution_count": 16,
   "metadata": {},
   "outputs": [],
   "source": [
    "momList = {\n",
    "    'banana': 5,\n",
    "    'avocado': 8,\n",
    "    'eggs': 12,\n",
    "    'milk': 2,\n",
    "    'orange': 6\n",
    "}\n",
    "\n",
    "myList = {\n",
    "    'Red Bull': 12,\n",
    "    'potato chips': 5,\n",
    "    'pineapple': 3,\n",
    "    'eggs': 6,\n",
    "    'avocado': 4\n",
    "}"
   ]
  },
  {
   "cell_type": "markdown",
   "metadata": {},
   "source": [
    "#### Q3.3 Merging the Shopping Lists\n",
    "You realize there are some overlapping items on the lists, so you decide to merge the two.\n",
    "\n",
    "Please write a __function, merge_shop_list(a, b)__, that takes two dictionaries a and b as inputs, and merge them together. If there is a common item, you should add the quantities together. The function shall return the merged dictionary (or the shopping list).\n",
    "\n",
    "Show your result by printing the merged shopping list."
   ]
  },
  {
   "cell_type": "code",
   "execution_count": 17,
   "metadata": {},
   "outputs": [
    {
     "name": "stdout",
     "output_type": "stream",
     "text": [
      "{'banana': 5, 'avocado': 12, 'eggs': 18, 'milk': 2, 'orange': 6, 'Red Bull': 12, 'potato chips': 5, 'pineapple': 3}\n"
     ]
    }
   ],
   "source": [
    "\"\"\"\n",
    "update() does not work as it only will merge the two lists together without changing the quanity number\n",
    "With the use logic and accessing the items in a for loop, we can\n",
    "merge the list and update quanities at the same time.\n",
    "\"\"\"\n",
    "def merge_shop_list(a, b):\n",
    "    result = a\n",
    "    for item, quantity in b.items():\n",
    "        if item in result:\n",
    "            result[item] += quantity  \n",
    "        else:\n",
    "            result[item] = quantity  \n",
    "    return result\n",
    "\n",
    "shoppingList = merge_shop_list(momList, myList)\n",
    "print(shoppingList)"
   ]
  },
  {
   "cell_type": "markdown",
   "metadata": {},
   "source": [
    "### Q4: AppleStore Dataset (30 points)\n",
    "\n",
    "#### Q4.1 Genres and Content Ratings\n",
    "\n",
    "With the AppleStore dataset, we found that \"Game\" is the most popular genre with more than 3000+ apps. We also realized that there are four different age-based content ratings (4+, 9+, 12+, and 17+). \n",
    "\n",
    "Write a Python program that analyzes the content rating distribution for the top three genres (Game, Entertainment and Education). That is, we want to know, for example, in the \"Game\" genere, how many apps are 4+, 9+, 12+, and 17+, respectively. \n",
    "\n",
    "There are different ways to do this. Try your best to come up with a solution. "
   ]
  },
  {
   "cell_type": "code",
   "execution_count": 18,
   "metadata": {},
   "outputs": [],
   "source": [
    "opened_file = open('AppleStore.csv', encoding=\"utf-8\")\n",
    "from csv import reader\n",
    "\n",
    "read_file = reader(opened_file)\n",
    "apps_data = list(read_file)"
   ]
  },
  {
   "cell_type": "code",
   "execution_count": 19,
   "metadata": {},
   "outputs": [
    {
     "name": "stdout",
     "output_type": "stream",
     "text": [
      "Total Games: 3861\n",
      "4+: 2079\n",
      "9+: 864\n",
      "12+: 741\n",
      "17+: 177\n",
      "Total Entertainment Apps: 534\n",
      "4+: 284\n",
      "9+: 44\n",
      "12+: 108\n",
      "17+: 98\n",
      "Total Education Apps: 452\n",
      "4+: 256\n",
      "9+: 83\n",
      "12+: 83\n",
      "17+: 30\n"
     ]
    }
   ],
   "source": [
    "#This will store the dictionary and count how many games total are there in the genre\n",
    "genre_counting = {}\n",
    "game_genre = 0\n",
    "entertain_genre = 0\n",
    "education_genre = 0\n",
    "\n",
    "#Keeps up with the Games category age rating\n",
    "gameFourPlusCount = 0\n",
    "gameNinePlusCount = 0\n",
    "gameTwelvePlusCount = 0\n",
    "gameSeventeenPlusCount = 0\n",
    "\n",
    "#Keeps up with the Entertainment category age rating\n",
    "entertainFourPlusCount = 0\n",
    "entertainNinePlusCount = 0\n",
    "entertainTwelvePlusCount = 0\n",
    "entertainSeventeenPlusCount = 0\n",
    "\n",
    "#Keeps up with the Education category age rating\n",
    "eduFourPlusCount = 0\n",
    "eduNinePlusCount = 0\n",
    "eduTwelvePlusCount = 0\n",
    "eduSeventeenPlusCount = 0\n",
    "\n",
    "#This is used to help the if statements pass through as an else statement is required.\n",
    "passelse = 0\n",
    "\n",
    "\"\"\"\n",
    "Will go through the CSV file and check the genre the app is in.\n",
    "If it is a Game, Entertainment, or Education app, it will go to the rating row and\n",
    "Check to see the age rating and update the app total and age rating count \n",
    "\"\"\"\n",
    "for row in apps_data[1:]:\n",
    "    genre = row[11]\n",
    "    if genre in genre_counting.keys():\n",
    "       if genre == 'Games':\n",
    "            rating = row[10]\n",
    "            if rating == '4+':\n",
    "                 gameFourPlusCount += 1    \n",
    "            elif rating == '9+':\n",
    "                gameNinePlusCount += 1\n",
    "            elif rating == '12+':\n",
    "                gameTwelvePlusCount += 1\n",
    "            elif rating == '17+':\n",
    "                gameSeventeenPlusCount += 1\n",
    "            else:\n",
    "                passelse = 0 \n",
    "            game_genre += 1\n",
    "       elif genre == 'Entertainment':\n",
    "            rating = row[10]\n",
    "            if rating == '4+':\n",
    "                 entertainFourPlusCount += 1    \n",
    "            elif rating == '9+':\n",
    "                entertainNinePlusCount += 1\n",
    "            elif rating == '12+':\n",
    "                entertainTwelvePlusCount += 1\n",
    "            elif rating == '17+':\n",
    "                entertainSeventeenPlusCount += 1\n",
    "            else:\n",
    "                passelse = 0 \n",
    "            entertain_genre += 1\n",
    "       elif genre == 'Education':\n",
    "            if rating == '4+':\n",
    "                eduFourPlusCount += 1    \n",
    "            elif rating == '9+':\n",
    "                eduNinePlusCount += 1\n",
    "            elif rating == '12+':\n",
    "                eduTwelvePlusCount += 1\n",
    "            elif rating == '17+':\n",
    "                eduSeventeenPlusCount += 1\n",
    "            else:\n",
    "                passelse = 0 \n",
    "            education_genre += 1\n",
    "    else:\n",
    "        genre_counting[genre] = 1\n",
    "    \n",
    "#Prints out all that has been counted in the loop in sepreate categories\n",
    "print('Total Games:',game_genre)\n",
    "print('4+:',gameFourPlusCount)\n",
    "print('9+:',gameNinePlusCount)\n",
    "print('12+:',gameTwelvePlusCount)\n",
    "print('17+:',gameSeventeenPlusCount)\n",
    "\n",
    "print('Total Entertainment Apps:',entertain_genre)\n",
    "print('4+:',entertainFourPlusCount)\n",
    "print('9+:',entertainNinePlusCount)\n",
    "print('12+:',entertainTwelvePlusCount)\n",
    "print('17+:',entertainSeventeenPlusCount)\n",
    "\n",
    "print('Total Education Apps:',education_genre)\n",
    "print('4+:',eduFourPlusCount)\n",
    "print('9+:',eduNinePlusCount)\n",
    "print('12+:',eduTwelvePlusCount)\n",
    "print('17+:',eduSeventeenPlusCount)"
   ]
  },
  {
   "cell_type": "markdown",
   "metadata": {},
   "source": [
    "__Q4.2 We are also interested in the price of the apps. Specifically, we want to know the number of applications in five different price ranges, that is,__ \n",
    "1. free\n",
    "2. 0 < price < 5\n",
    "3. 5<= price < 10\n",
    "4. 10 <= price < 50\n",
    "5. price >=50.\n",
    "\n",
    "Please write a code that shows the price range distribution."
   ]
  },
  {
   "cell_type": "code",
   "execution_count": 20,
   "metadata": {},
   "outputs": [],
   "source": [
    "# Initialize the price range dictionary. You will write the rest.\n",
    "\n",
    "price_range = {'Free': 0, '0 to $5': 0, '$5 to $10': 0, '$10 to $50': 0, '>= $50': 0}\n"
   ]
  },
  {
   "cell_type": "code",
   "execution_count": 21,
   "metadata": {},
   "outputs": [
    {
     "name": "stdout",
     "output_type": "stream",
     "text": [
      "{'Free': 4783, '0 to $5': 1971, '$5 to $10': 336, '$10 to $50': 70, '>= $50': 2}\n"
     ]
    }
   ],
   "source": [
    "#Creates an empty dictionary\n",
    "price_counting = {}\n",
    "\n",
    "#Creates counts for us to update the dictionary later\n",
    "freeCount = 0\n",
    "zeroTo5Count = 0\n",
    "fiveTo10Count = 0\n",
    "tenTo50Count = 0\n",
    "greaterThan50Count = 0\n",
    "\n",
    "\"\"\"\n",
    "The for loop will go through each row of the prices. Conidering that the program reads the CSV as a string,\n",
    "we have to conver the row to interger floating values to read and compare what is in the column.\n",
    "\"\"\"\n",
    "for row in apps_data[1:]:\n",
    "    price = int(float(row[4]))\n",
    "    if price in price_counting.keys():\n",
    "        if price == 0:\n",
    "            freeCount += 1\n",
    "        elif price > 0 and price < 5:\n",
    "            zeroTo5Count += 1\n",
    "        elif price >=5 and price < 10:\n",
    "            fiveTo10Count += 1\n",
    "        elif price >= 10 and price < 50:\n",
    "            tenTo50Count += 1\n",
    "        elif price >= 50:\n",
    "            greaterThan50Count += 1\n",
    "        else:\n",
    "            passelse = 0\n",
    "    else:\n",
    "        price_counting[price] = 1     \n",
    "\n",
    "#Will Update the Dictionary with the newly found values.        \n",
    "updatedValues = {'Free': freeCount, '0 to $5': zeroTo5Count, '$5 to $10': fiveTo10Count, '$10 to $50': tenTo50Count, '>= $50': greaterThan50Count}\n",
    "price_range.update(updatedValues)\n",
    "print(price_range)"
   ]
  },
  {
   "cell_type": "markdown",
   "metadata": {},
   "source": [
    "<h3>Q5: Checker Board (10 Points)</h3>"
   ]
  },
  {
   "cell_type": "raw",
   "metadata": {},
   "source": [
    "Please write codes to generate this 9x9 matrix -\n",
    "\n",
    "   [[1 0 0 1 0 0 1 0 0]\n",
    "    [0 1 0 0 1 0 0 1 0]\n",
    "    [0 0 1 0 0 1 0 0 1]\n",
    "    [1 0 0 1 0 0 1 0 0]\n",
    "    [0 1 0 0 1 0 0 1 0]\n",
    "    [0 0 1 0 0 1 0 0 1]\n",
    "    [1 0 0 1 0 0 1 0 0]\n",
    "    [0 1 0 0 1 0 0 1 0]\n",
    "    [0 0 1 0 0 1 0 0 1]]\n",
    "    \n",
    "    Note: you cannot simply copy the numbers. Pay attention to the pattern. There are many ways to do this"
   ]
  },
  {
   "cell_type": "code",
   "execution_count": 22,
   "metadata": {
    "scrolled": false
   },
   "outputs": [
    {
     "name": "stdout",
     "output_type": "stream",
     "text": [
      "[1, 0, 0, 1, 0, 0, 1, 0, 0]\n",
      "[0, 1, 0, 0, 1, 0, 0, 1, 0]\n",
      "[0, 0, 1, 0, 0, 1, 0, 0, 1]\n",
      "[1, 0, 0, 1, 0, 0, 1, 0, 0]\n",
      "[0, 1, 0, 0, 1, 0, 0, 1, 0]\n",
      "[0, 0, 1, 0, 0, 1, 0, 0, 1]\n",
      "[1, 0, 0, 1, 0, 0, 1, 0, 0]\n",
      "[0, 1, 0, 0, 1, 0, 0, 1, 0]\n",
      "[0, 0, 1, 0, 0, 1, 0, 0, 1]\n"
     ]
    }
   ],
   "source": [
    "\"\"\"\n",
    "With the use of numpy functions, the first three rows repeat themselves for rows 5-9, so\n",
    "by shifting and putting the three rows into the 9x9 array. We can use this pattern to print it three more times\n",
    "and by doing that we have created the array above.\n",
    "\"\"\"\n",
    "import numpy as np\n",
    "\n",
    "ninebynine = np.zeros((9,9))\n",
    "\n",
    "for i in range(3):\n",
    "    array = [1, 0, 0, 1, 0, 0, 1, 0, 0]\n",
    "    print(array)\n",
    "    lastelement = array[-1]\n",
    "    for i in range(2):\n",
    "        ninebynine[i:] = array\n",
    "        for i in range(len(array)-1, 0, -1):\n",
    "                    array[i] = array[i-1]\n",
    "        array[0] = lastelement\n",
    "        print(array)\n"
   ]
  },
  {
   "cell_type": "markdown",
   "metadata": {},
   "source": [
    "<h3>Q6: Array Indexing and Slicing (15 Points) </h3>"
   ]
  },
  {
   "cell_type": "markdown",
   "metadata": {},
   "source": [
    "1. Please convert this vector, np.arange(48), into a 8x6 array, i.e, 8 rows and 6 columns. Let's call this array A.\n",
    "\n",
    "2. Write codes to extract the elements in columns 2, 3, and 5 from A.\n",
    "\n",
    "3. Create a new 3x5 array, with elements from rows 6, 1, 3 of A (in that order). Hint: use fancy indexing\n",
    "\n",
    "4. Write codes to extract four elements from A with the following indices (4,2), (5,0), (1,2), (3,3)."
   ]
  },
  {
   "cell_type": "code",
   "execution_count": 23,
   "metadata": {},
   "outputs": [
    {
     "name": "stdout",
     "output_type": "stream",
     "text": [
      "\n",
      "Number One:\n",
      "[[ 0  1  2  3  4  5]\n",
      " [ 6  7  8  9 10 11]\n",
      " [12 13 14 15 16 17]\n",
      " [18 19 20 21 22 23]\n",
      " [24 25 26 27 28 29]\n",
      " [30 31 32 33 34 35]\n",
      " [36 37 38 39 40 41]\n",
      " [42 43 44 45 46 47]]\n",
      "\n",
      "Number Two:\n",
      "[[ 2  3  5]\n",
      " [ 8  9 11]\n",
      " [14 15 17]\n",
      " [20 21 23]\n",
      " [26 27 29]\n",
      " [32 33 35]\n",
      " [38 39 41]\n",
      " [44 45 47]]\n",
      "\n",
      "Number Three:\n",
      "[[36 37 38 39 40]\n",
      " [ 6  7  8  9 10]\n",
      " [18 19 20 21 22]]\n",
      "\n",
      "Number Four:\n",
      "[26 30  8 21]\n"
     ]
    }
   ],
   "source": [
    "A = np.arange(48)\n",
    "\n",
    "print('\\nNumber One:')\n",
    "A_Reshape = np.reshape(A, (8, 6))\n",
    "print(A_Reshape)\n",
    "\n",
    "columns = [2, 3, 5]\n",
    "columnExtraction = A_Reshape[:, columns]\n",
    "\n",
    "print('\\nNumber Two:')\n",
    "print(columnExtraction)\n",
    "\n",
    "rows = [6, 1, 3]\n",
    "\n",
    "threeByFive = A_Reshape[rows, :5]\n",
    "\n",
    "print('\\nNumber Three:')\n",
    "print(threeByFive)\n",
    "\n",
    "indexNumber = [(4, 2), (5, 0), (1, 2), (3, 3)]\n",
    "elements = A_Reshape[[i[0] for i in indexNumber], [i[1] for i in indexNumber]]\n",
    "\n",
    "print('\\nNumber Four:')\n",
    "print(elements)"
   ]
  },
  {
   "cell_type": "code",
   "execution_count": null,
   "metadata": {},
   "outputs": [],
   "source": []
  }
 ],
 "metadata": {
  "kernelspec": {
   "display_name": "Python 3 (ipykernel)",
   "language": "python",
   "name": "python3"
  },
  "language_info": {
   "codemirror_mode": {
    "name": "ipython",
    "version": 3
   },
   "file_extension": ".py",
   "mimetype": "text/x-python",
   "name": "python",
   "nbconvert_exporter": "python",
   "pygments_lexer": "ipython3",
   "version": "3.7.16"
  }
 },
 "nbformat": 4,
 "nbformat_minor": 2
}
