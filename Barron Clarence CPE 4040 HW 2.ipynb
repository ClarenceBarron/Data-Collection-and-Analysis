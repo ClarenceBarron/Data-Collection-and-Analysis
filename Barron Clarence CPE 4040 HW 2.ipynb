{
 "cells": [
  {
   "cell_type": "markdown",
   "metadata": {},
   "source": [
    "<center><h1> CPE 4040 Spring 2023: Homework 2</h1></center>"
   ]
  },
  {
   "cell_type": "markdown",
   "metadata": {},
   "source": [
    "1. Write your answer in the cell provided under each question.\n",
    "2. __Write comments__ in the code to explain your thoughts.\n",
    "3. Show your execution result.\n",
    "4. Do not use pandas, NumPy or other packages we have nor covered yet. \n",
    "4. Do your own work. __Do not copy-and-paste other people's codes.__    \n",
    "\n",
    "### Submission:\n",
    " * __Submit this notebook file and the pdf version__ - remember to add your name in the filename.\n",
    " * Deadline: 11:59 pm, 2/4 (Saturday)"
   ]
  },
  {
   "cell_type": "markdown",
   "metadata": {},
   "source": [
    "### Q1: String Concatenation (10 points):\n",
    "\n",
    "In Robert McCloskey’s book __Make Way for Ducklings__, the names of the ducklings are *Jack, Kack, Lack, Mack, Nack, Ouack, Pack, and Quack*.\n",
    "\n",
    "Given two strings, __prefix__ and **suffix**, please do the following:\n",
    "   1. Use a *for* loop to print all 8 duckling names. \n",
    "   2. You may notice that \"Ouack” and “Quack” are misspelled. Use string method to come up with the correct spelling.   "
   ]
  },
  {
   "cell_type": "code",
   "execution_count": 5,
   "metadata": {},
   "outputs": [
    {
     "name": "stdout",
     "output_type": "stream",
     "text": [
      "Jack\n",
      "Kack\n",
      "Lack\n",
      "Mack\n",
      "Nack\n",
      "Oack\n",
      "Pack\n",
      "Qack\n"
     ]
    }
   ],
   "source": [
    "prefix = 'JKLMNOPQ'\n",
    "suffix = 'ack'\n",
    "\n",
    "\n",
    "#Using the loop. It just prints each letter\n",
    "for i in prefix:\n",
    "    name = i + suffix\n",
    "    print(name)"
   ]
  },
  {
   "cell_type": "code",
   "execution_count": 9,
   "metadata": {},
   "outputs": [
    {
     "name": "stdout",
     "output_type": "stream",
     "text": [
      "Ouack\n",
      "Quack\n"
     ]
    }
   ],
   "source": [
    "#Changes Oack to Ouack with a simple .replace function\n",
    "name1 = 'Oack'\n",
    "name1_replace = name1.replace('O','Ou')\n",
    "print(name1_replace)\n",
    "\n",
    "#Changes Qack to Quack with a simple .replace function\n",
    "name2 = 'Qack'\n",
    "name2_replace = name2.replace('Q','Qu')\n",
    "print(name2_replace)"
   ]
  },
  {
   "cell_type": "markdown",
   "metadata": {},
   "source": [
    "### Q2: Palindrome or Symmetrical String (15 Points)\n",
    "\n",
    "Write a Python program to check whether an input string is palindrome or symmetrical.\n",
    "    \n",
    "    A sequence is said to be palindrome if one half of the string is the reverse of the other half, e.g., \"madam\".\n",
    "    A sequence is said to be symmetrical if both halves of the string are the same, e.g., \"abcabc\"\n",
    "    \n",
    "    **Note: if there are odd number of letters in a string, the middle one is ignored.\n",
    "    **Note: the string is case insensitive\n",
    "    \n",
    "**Hint:** use the string slice( ) method to divide the string into 2 halves.\n",
    "\n",
    "To show your work, use those input strings: \"level\", \"Cosco\", \"aaaAAaaa\"."
   ]
  },
  {
   "cell_type": "code",
   "execution_count": 31,
   "metadata": {},
   "outputs": [
    {
     "name": "stdout",
     "output_type": "stream",
     "text": [
      "level is a palindrome.\n",
      "Cosco is symmetrical.\n",
      "aaaAAaaa is both symmetrical and is palindrome.\n"
     ]
    }
   ],
   "source": [
    "#For all the strings and their functions, the word gets sliced in half with the slice() function\n",
    "#Then both halves wil be checked between to get the following outputs:\n",
    "# is symmetrical, is a palindrome, is both symmetrical and a palindrome, or is netiher symmetrical or a palindrome\n",
    "#First String\n",
    "string1 = 'level'\n",
    "firstHalf1 = slice(0, 2)\n",
    "secondHalf1 = slice(3,5)\n",
    "reverseCheck1 = string1[secondHalf1][::-1]\n",
    "\n",
    "if string1[firstHalf1] == string1[secondHalf1]:\n",
    "        if string1[firstHalf3] == reverseCheck1:\n",
    "            print(string1, 'is both symmetrical and is palindrome.')\n",
    "        else:\n",
    "            print(string1, 'is symmetrical.')\n",
    "elif string1[firstHalf1] == reverseCheck1:\n",
    "    print(string1, 'is a palindrome.')\n",
    "    \n",
    "else:\n",
    "    print(string1, 'is not symmetrical nor is a palindrome.')\n",
    "\n",
    "#Second String\n",
    "string2 = 'Cosco'\n",
    "string2_casefix = string2.lower()\n",
    "firstHalf2 = slice(0, 2)\n",
    "secondHalf2 = slice(3,5)\n",
    "reverseCheck2 = string2_casefix[secondHalf2][::-1]\n",
    "\n",
    "if string2_casefix[firstHalf2] == string2_casefix[secondHalf2]:\n",
    "        if string2_casefix[firstHalf2] == reverseCheck2:\n",
    "            print(string2, 'is both symmetrical and is palindrome.')\n",
    "        else:\n",
    "            print(string2, 'is symmetrical.')\n",
    "    \n",
    "elif string2_casefix[firstHalf2] == reverseCheck2:\n",
    "    print(string2, 'is a palindrome.')\n",
    "    \n",
    "else:\n",
    "    print(string2, 'is not symmetrical nor is a palindrome.')\n",
    "\n",
    "#Third String\n",
    "string3 = 'aaaAAaaa'\n",
    "string3_casefix = string3.lower()\n",
    "firstHalf3 = slice(0, 4)\n",
    "secondHalf3 = slice(4,8)\n",
    "reverseCheck3 = string3_casefix[secondHalf3][::-1]\n",
    "\n",
    "if string3_casefix[firstHalf3] == string3_casefix[secondHalf3]:\n",
    "        if string3_casefix[firstHalf3] == reverseCheck3:\n",
    "            print(string3, 'is both symmetrical and is palindrome.')\n",
    "        else:\n",
    "            print(string3, 'is symmetrical.')\n",
    "elif string3_casefix[firstHalf3] == reverseCheck3:\n",
    "    print(string3, 'is a palindrome.')\n",
    "    \n",
    "else:\n",
    "    print(string3, 'is not symmetrical nor is a palindrome.')"
   ]
  },
  {
   "cell_type": "markdown",
   "metadata": {},
   "source": [
    "### Q3: Mary Had a Little Lamb (15 Points)"
   ]
  },
  {
   "cell_type": "code",
   "execution_count": 32,
   "metadata": {},
   "outputs": [],
   "source": [
    "title = 'mary HAD a little lamb'\n",
    "\n",
    "lyrics = '''\n",
    "Mary had a little limb,\n",
    "Little limb, little limb.\n",
    "Mary had a little limb\n",
    "Its fleece was white as snow.\n",
    "\n",
    "And everywhere that Mary went,\n",
    "Mary went, Mary went,\n",
    "Everywhere that Mary went\n",
    "The limb was sure to go.\n",
    "\n",
    "It followed her to school one day,\n",
    "School one day, school one day.\n",
    "It followed her to school one day\n",
    "Which was against the rules.\n",
    "\n",
    "It made the children laugh and play,\n",
    "Laugh and play, laugh and play.\n",
    "It made the children laugh and play,\n",
    "To see a limb at school.\n",
    "'''"
   ]
  },
  {
   "cell_type": "markdown",
   "metadata": {},
   "source": [
    "#### Q3.1 The song title is not properly capitalized. Use string method to correct it to \"Mary Had a Little Lamb\"."
   ]
  },
  {
   "cell_type": "code",
   "execution_count": 33,
   "metadata": {},
   "outputs": [
    {
     "name": "stdout",
     "output_type": "stream",
     "text": [
      "Mary Had A Little Lamb\n"
     ]
    }
   ],
   "source": [
    "#Ttitle function corrects title.\n",
    "title = title.title()\n",
    "print(title)"
   ]
  },
  {
   "cell_type": "markdown",
   "metadata": {},
   "source": [
    "#### Q3.2 The word \"lamb\" is misspelled in several places. Please find them and correct the spelling. "
   ]
  },
  {
   "cell_type": "code",
   "execution_count": 41,
   "metadata": {},
   "outputs": [
    {
     "name": "stdout",
     "output_type": "stream",
     "text": [
      "\n",
      "Mary had a little lamb,\n",
      "Little lamb, little lamb.\n",
      "Mary had a little lamb\n",
      "Its fleece was white as snow.\n",
      "\n",
      "And everywhere that Mary went,\n",
      "Mary went, Mary went,\n",
      "Everywhere that Mary went\n",
      "The lamb was sure to go.\n",
      "\n",
      "It followed her to school one day,\n",
      "School one day, school one day.\n",
      "It followed her to school one day\n",
      "Which was against the rules.\n",
      "\n",
      "It made the children laugh and play,\n",
      "Laugh and play, laugh and play.\n",
      "It made the children laugh and play,\n",
      "To see a lamb at school.\n",
      "\n"
     ]
    }
   ],
   "source": [
    "#the .replace() function helps replace all the limbs to lambs to correct the spelling\n",
    "corrected_spelling = lyrics.replace(\"limb\", \"lamb\")\n",
    "print(corrected_spelling)"
   ]
  },
  {
   "cell_type": "markdown",
   "metadata": {},
   "source": [
    "#### Q3.3 How many words are in this song, not including commas, periods, spaces and new lines?\n",
    "\n",
    "Note: Use string method split( ) first."
   ]
  },
  {
   "cell_type": "code",
   "execution_count": 49,
   "metadata": {},
   "outputs": [
    {
     "name": "stdout",
     "output_type": "stream",
     "text": [
      "90\n"
     ]
    }
   ],
   "source": [
    "#The split function helps us seperate the words and the len() function helps us count\n",
    "#As a santiy check too, copying and pasting the lyrics into a word doc helped verified the right answer\n",
    "word_count = corrected_spelling.split()\n",
    "print(len(word_count))"
   ]
  },
  {
   "cell_type": "markdown",
   "metadata": {},
   "source": [
    "### Q4: List Comprehension - Exploring State Names (25 Points)\n",
    "\n",
    "Given the a list of 50 state names, please use list comprehension to answer the following questions. "
   ]
  },
  {
   "cell_type": "code",
   "execution_count": 76,
   "metadata": {},
   "outputs": [],
   "source": [
    "#--------------------------------------------------------------\n",
    "# 50 state names as a list\n",
    "#--------------------------------------------------------------\n",
    "states = ['Alabama','Alaska','Arizona','Arkansas','California','Colorado',\n",
    "          'Connecticut','Delaware','Florida','Georgia','Hawaii','Idaho',\n",
    "          'Illinois','Indiana','Iowa','Kansas','Kentucky','Louisiana',\n",
    "          'Maine','Maryland','Massachusetts','Michigan','Minnesota',\n",
    "          'Mississippi','Missouri','Montana','Nebraska','Nevada',\n",
    "          'New Hampshire','New Jersey','New Mexico','New York',\n",
    "          'North Carolina','North Dakota','Ohio','Oklahoma','Oregon',\n",
    "          'Pennsylvania','Rhode Island','South Carolina','South Dakota',\n",
    "          'Tennessee','Texas','Utah','Vermont','Virginia','Washington',\n",
    "          'West Virginia','Wisconsin','Wyoming']"
   ]
  },
  {
   "cell_type": "markdown",
   "metadata": {},
   "source": [
    "#### Q4.1 What are the top 3 states with the longest one-word name?  \n",
    "\n",
    "Hint: Remember do not consider states such New York, North Carolina etc. which have two words."
   ]
  },
  {
   "cell_type": "code",
   "execution_count": 146,
   "metadata": {},
   "outputs": [
    {
     "name": "stdout",
     "output_type": "stream",
     "text": [
      "['Massachusetts', 'Pennsylvania', 'Connecticut']\n"
     ]
    }
   ],
   "source": [
    "#Using list comprehension, it helps filter out the states that are two words instead of one\n",
    "#With the use of the .sort() function using key=len, it will help us return the list that has been sorted by length\n",
    "singlewordstates = [state for state in states if len(state.split()) == 1]\n",
    "singlewordstates.sort(key=len)\n",
    "topthree = sortedstates[:3]\n",
    "print(topthree)"
   ]
  },
  {
   "cell_type": "markdown",
   "metadata": {},
   "source": [
    "#### Q4.2 Which states start and end with the same letter, for example, Alaska starts and ends with 'a'?"
   ]
  },
  {
   "cell_type": "code",
   "execution_count": 94,
   "metadata": {},
   "outputs": [
    {
     "name": "stdout",
     "output_type": "stream",
     "text": [
      "alabama\n",
      "alaska\n",
      "arizona\n",
      "ohio\n"
     ]
    }
   ],
   "source": [
    "#To make it case insensitive, we make the list all lower case\n",
    "#Afterward, we just check to see if the first letter matches the last letter then print\n",
    "states = ['Alabama','Alaska','Arizona','Arkansas','California','Colorado',\n",
    "          'Connecticut','Delaware','Florida','Georgia','Hawaii','Idaho',\n",
    "          'Illinois','Indiana','Iowa','Kansas','Kentucky','Louisiana',\n",
    "          'Maine','Maryland','Massachusetts','Michigan','Minnesota',\n",
    "          'Mississippi','Missouri','Montana','Nebraska','Nevada',\n",
    "          'New Hampshire','New Jersey','New Mexico','New York',\n",
    "          'North Carolina','North Dakota','Ohio','Oklahoma','Oregon',\n",
    "          'Pennsylvania','Rhode Island','South Carolina','South Dakota',\n",
    "          'Tennessee','Texas','Utah','Vermont','Virginia','Washington',\n",
    "          'West Virginia','Wisconsin','Wyoming']\n",
    "\n",
    "lowercase = [state.lower() for state in states]\n",
    "for state in lowercase:\n",
    "    if state[0] == state[-1]:\n",
    "        print(state)     "
   ]
  },
  {
   "cell_type": "markdown",
   "metadata": {},
   "source": [
    "#### Q4.3 Which alphabetic letter is not present in any of the state names? Yep, there's only one."
   ]
  },
  {
   "cell_type": "code",
   "execution_count": 95,
   "metadata": {},
   "outputs": [
    {
     "name": "stdout",
     "output_type": "stream",
     "text": [
      "q\n"
     ]
    }
   ],
   "source": [
    "#By putting the whole alphabet in a string and using a for loop, we can find the letter not present\n",
    "# if not any function helps us determine all the letters in each state name to help simplify the code.\n",
    "letters = 'abcdefghijklmnopqrstuvwxyz'\n",
    "for letter in letters:\n",
    "    if not any(letter in state.lower() for state in states):\n",
    "        print(letter)"
   ]
  },
  {
   "cell_type": "markdown",
   "metadata": {},
   "source": [
    "#### Q4.4 Which states names have no character repetition? For example, Florida has 7 distict letters and no repetition."
   ]
  },
  {
   "cell_type": "code",
   "execution_count": 96,
   "metadata": {},
   "outputs": [
    {
     "name": "stdout",
     "output_type": "stream",
     "text": [
      "['Florida', 'Idaho', 'Iowa', 'Maine', 'New York', 'Texas', 'Utah', 'Vermont', 'Wyoming']\n"
     ]
    }
   ],
   "source": [
    "#Filters out the states that has repeating characters in their names\n",
    "norepeatstates = [state for state in states if len(set(state.lower())) == len(state)]\n",
    "print(norepeatstates)"
   ]
  },
  {
   "cell_type": "markdown",
   "metadata": {},
   "source": [
    "#### Q4.5: Which state names do not have the letter 'a' at all?"
   ]
  },
  {
   "cell_type": "code",
   "execution_count": 98,
   "metadata": {},
   "outputs": [
    {
     "name": "stdout",
     "output_type": "stream",
     "text": [
      "['Connecticut', 'Illinois', 'Kentucky', 'Mississippi', 'Missouri', 'New Jersey', 'New Mexico', 'New York', 'Ohio', 'Oregon', 'Tennessee', 'Vermont', 'Wisconsin', 'Wyoming']\n"
     ]
    }
   ],
   "source": [
    "#Filters out all the states that has the letter 'A' in their name\n",
    "noAinstates = [state for state in states if 'a' not in state.lower()]\n",
    "print(noAinstates)"
   ]
  },
  {
   "cell_type": "markdown",
   "metadata": {},
   "source": [
    "<h3> Q5: List Operations (20 points) </h3>\n",
    "\n",
    "You will first generate a list of 10 random integers from 1 to 1000 by using the Python random module. Save the list (let's call it A) and write a short snippet for each of the following task:\n",
    "\n",
    "1. Pick and sort first the odd numbers then the even numbers in ascending order and print the final list, e.g. [1 3 51 4 16 32]\n",
    "2. Extract only the items that are less than 250.\n",
    "3. Create a new list where each item y is the square of the correpsonding item in A.\n",
    "4. Extract the items that are NOT divisible by 3 and NOT divisible by 7"
   ]
  },
  {
   "cell_type": "code",
   "execution_count": 105,
   "metadata": {},
   "outputs": [
    {
     "name": "stdout",
     "output_type": "stream",
     "text": [
      "[887, 393, 412, 803, 685, 712, 904, 825, 74, 323]\n"
     ]
    }
   ],
   "source": [
    "#Creates a random array with 10 numbers\n",
    "import random\n",
    "\n",
    "# Note: you can use random.randint() to generate the random integers\n",
    "A = [random.randint(1, 1001) for _ in range(10)]\n",
    "print(A)"
   ]
  },
  {
   "cell_type": "code",
   "execution_count": 108,
   "metadata": {},
   "outputs": [
    {
     "name": "stdout",
     "output_type": "stream",
     "text": [
      "[323, 393, 685, 803, 825, 887, 74, 412, 712, 904]\n"
     ]
    }
   ],
   "source": [
    "#Q2_1\n",
    "#The use of modulus(%) can help us tell if a number is even or odd if it divides into two and no remainder is left\n",
    "#Afterward, we can sort the list into two sections, odd then even.\n",
    "oddnumbers = [odd for odd in A if odd % 2 != 0]\n",
    "evennumbers = [even for even in A if even % 2 == 0]\n",
    "\n",
    "oddnumbers.sort()\n",
    "evennumbers.sort()\n",
    "\n",
    "evenoddlist = oddnumbers + evennumbers\n",
    "print(evenoddlist)"
   ]
  },
  {
   "cell_type": "code",
   "execution_count": 110,
   "metadata": {},
   "outputs": [
    {
     "name": "stdout",
     "output_type": "stream",
     "text": [
      "[74]\n"
     ]
    }
   ],
   "source": [
    "#Q2_2\n",
    "#Filters out the numbers less than 250\n",
    "lessthan250 = [small for small in A if small < 250]\n",
    "print(lessthan250)"
   ]
  },
  {
   "cell_type": "code",
   "execution_count": 112,
   "metadata": {},
   "outputs": [
    {
     "name": "stdout",
     "output_type": "stream",
     "text": [
      "[786769, 154449, 169744, 644809, 469225, 506944, 817216, 680625, 5476, 104329]\n"
     ]
    }
   ],
   "source": [
    "#Q2_3\n",
    "#Squares all the numbers in the array in no particalur order\n",
    "bignumbers = [number**2 for number in A]\n",
    "print(bignumbers)"
   ]
  },
  {
   "cell_type": "code",
   "execution_count": 114,
   "metadata": {},
   "outputs": [
    {
     "name": "stdout",
     "output_type": "stream",
     "text": [
      "[887, 412, 803, 685, 712, 904, 74, 323]\n"
     ]
    }
   ],
   "source": [
    "#Q2_4\n",
    "#Filters out the numbers that can be divided by 3 or 7 evenally with the use of modulus\n",
    "cantdivide = [nodivide for nodivide in A if nodivide % 3 != 0 and nodivide % 7 != 0]\n",
    "print(cantdivide)"
   ]
  },
  {
   "cell_type": "markdown",
   "metadata": {},
   "source": [
    "### Q6: Order of Planets (15 Points)\n",
    "\n",
    "In the solar system, the planets, in order of their distances from the Sun (closest to farthest), are Mercury, Venus, Earth, Mars, Jupiter, Saturn, Uranus, and Neptune. Given an incomplete and out-of-order list, please use list methods to make it right."
   ]
  },
  {
   "cell_type": "code",
   "execution_count": 147,
   "metadata": {},
   "outputs": [
    {
     "name": "stdout",
     "output_type": "stream",
     "text": [
      "['mercury', 'venus', 'earth', 'mars', 'jupiter', 'saturn', 'uranus', 'neptune']\n"
     ]
    }
   ],
   "source": [
    "#Creating a fixed planets list can help us sort the list via the sort function\n",
    "#By creating the new list, we can use it sort the planets into their proper positions via the index\n",
    "planets = ['venus', 'mercury', 'mars', 'jupiter', 'earth']\n",
    "\n",
    "fixedplanets = ['mercury', 'venus', 'earth', 'mars', 'jupiter', 'saturn', 'uranus', 'neptune']\n",
    "\n",
    "planets.append('saturn') \n",
    "planets.append('uranus')\n",
    "planets.append('neptune')\n",
    "planets.sort(key=fixedplanets.index)\n",
    "\n",
    "print(planets)"
   ]
  },
  {
   "cell_type": "code",
   "execution_count": null,
   "metadata": {},
   "outputs": [],
   "source": []
  }
 ],
 "metadata": {
  "kernelspec": {
   "display_name": "Python 3 (ipykernel)",
   "language": "python",
   "name": "python3"
  },
  "language_info": {
   "codemirror_mode": {
    "name": "ipython",
    "version": 3
   },
   "file_extension": ".py",
   "mimetype": "text/x-python",
   "name": "python",
   "nbconvert_exporter": "python",
   "pygments_lexer": "ipython3",
   "version": "3.7.16"
  }
 },
 "nbformat": 4,
 "nbformat_minor": 2
}
