{
 "cells": [
  {
   "cell_type": "markdown",
   "metadata": {},
   "source": [
    "<center><h1>CPE 4040 Spring 2023: Midterm Exam</h1></center>"
   ]
  },
  {
   "cell_type": "markdown",
   "metadata": {},
   "source": [
    "<center><h2> Follow the instructions below: </h2></center>\n",
    "\n",
    "1. Write your answer in the cell provided under each question.\n",
    "2. __You must write comments to explain your thoughts and earn full credit__.\n",
    "3. __Show your execution result__.\n",
    "4. Do your own work. __Do not copy-and-paste other people's (or AI's) codes.__\n",
    "5. Please do not use pandas since it is not covered yet.\n",
    "\n",
    "<h3>Save the Jupyter Notebook by adding your name to the end of the filename. </h3>\n",
    "<h3>Submit to the D2L Assignment Dropbox before 10:00 am.</h3>"
   ]
  },
  {
   "cell_type": "markdown",
   "metadata": {},
   "source": [
    "<h2>First, import the modules</h2>"
   ]
  },
  {
   "cell_type": "code",
   "execution_count": null,
   "metadata": {},
   "outputs": [],
   "source": [
    "import numpy as np\n",
    "import math"
   ]
  },
  {
   "cell_type": "markdown",
   "metadata": {},
   "source": [
    "<h2> Q1: Happy Twosday! (15 points) </h2>\n",
    "\n",
    "February 22, 2022 was a rare day that all five digits of the date, 22222, are twos. The string is both __palindromic__ and __symmetric__. Recall that \n",
    "   - A sequence is said to be a palindrome if one half of the string is the reverse of the other half, e.g., \"madam\".\n",
    "   - A sequence is said to be symmetrical if both halves of the string are the same, e.g., \"abcabc\".\n",
    "   - If the length of a sequence is an odd number, the middle element in the sequence is not considered. \n",
    "\n",
    "### Q1.1 Write a Python program to confirm that February 22 (22222) is indeed palindromic and symmetrical."
   ]
  },
  {
   "cell_type": "code",
   "execution_count": null,
   "metadata": {},
   "outputs": [],
   "source": [
    "\"\"\"\"\n",
    "The following code will slice the string in half, and, since the string has an odd number amount\n",
    "of characters we only slice the first two and the last two characters to check.\n",
    "\"\"\"\n",
    "string = '22222'\n",
    "firstHalf = slice(0,2) #Slices the first two 2's in the string\n",
    "secondHalf = slice(3,5) #Slices the second two 2's in the string\n",
    "reverseCheck = string[secondHalf][::-1] #This will create a string that reverse the order for palidrome check\n",
    "\n",
    "if string[firstHalf] == string[secondHalf]:\n",
    "        if string[firstHalf] == reverseCheck: #If first half = second half reversed while satisfying first = second. It is both\n",
    "            print(string, 'is both symmetrical and is palindrome.')\n",
    "        else:\n",
    "            print(string, 'is symmetrical.') #If not, its jsut symmetric \n",
    "elif string[firstHalf] == reverseCheck:\n",
    "    print(string, 'is a palindrome.') #If not symmetric, but first half = reverse. Then its a palindrome.\n",
    "    \n",
    "else:\n",
    "    print(string, 'is not symmetrical nor is a palindrome.') #If neither. It is neither."
   ]
  },
  {
   "cell_type": "markdown",
   "metadata": {},
   "source": [
    "### Q1.2 A number is called a Super Palindrome is it is a palindrome and also a square of another palindrome.\n",
    "\n",
    "### For Example, 10201 is a Super Palindrome since 101 is a palindrome and 10201 = 101^2.\n",
    "\n",
    "### Write a Python code to find all five-digit super palindromes, that is, numbers from 10000 to 99999.\n",
    "\n",
    "### Hint: find 3-digit palindromes first."
   ]
  },
  {
   "cell_type": "code",
   "execution_count": 1,
   "metadata": {},
   "outputs": [
    {
     "name": "stdout",
     "output_type": "stream",
     "text": [
      "[10201, 12321, 14641, 40804, 44944]\n"
     ]
    }
   ],
   "source": [
    "# Answer for Q1.2\n",
    "\n",
    "def palindromeCheck(bigNumber):\n",
    "    return str(bigNumber) == str(bigNumber)[::-1] #Converts the integers to strings and returns palindromes with the given statement.\n",
    "\n",
    "#With in the range, it will check numbers for 100 to 999 since 1000 will be left out.\n",
    "palindromes = [bigNumber for bigNumber in range(100, 1000) if palindromeCheck(bigNumber)] #This is done by a way of filtering.\n",
    "\n",
    "superPalindromes = [] #Creates an empty list since we changed the integers into strings\n",
    "for p in palindromes:\n",
    "    square = p ** 2 #This will square the palindromes that was given from the filter statement.\n",
    "    #The if statement will check to see if it falls with in range. If it does, we use superPalindromes.append(square)\n",
    "    #To add it to the empty list then print it\n",
    "    if palindromeCheck(square) and 10000 <= square and square <= 99999: \n",
    "        superPalindromes.append(square)\n",
    "\n",
    "print(superPalindromes)"
   ]
  },
  {
   "cell_type": "markdown",
   "metadata": {},
   "source": [
    "<h2>Q2: Array Processing (15 points)</h2>"
   ]
  },
  {
   "cell_type": "markdown",
   "metadata": {},
   "source": [
    "<h3>Given a 9-by-9 matrix of random integers from 0 to 99:</h3>"
   ]
  },
  {
   "cell_type": "code",
   "execution_count": null,
   "metadata": {},
   "outputs": [],
   "source": [
    "np.random.seed(1)\n",
    "arr = np.random.randint(100,size=(9,9))\n",
    "print(arr)"
   ]
  },
  {
   "cell_type": "markdown",
   "metadata": {},
   "source": [
    "<h3>Q2.1 Observe that each 9x9 matrix is essentially nine blocks of 3x3 matrix. Write a Python code to calculate the mean value for each of the 3x3 matrix.</h3>\n",
    "<h3> Hint: use array slicing to index each of the 9 sub-block.</h3>"
   ]
  },
  {
   "cell_type": "code",
   "execution_count": null,
   "metadata": {},
   "outputs": [],
   "source": [
    "# Answer for Q2.1\n",
    "#Arrays of all the 3x3 blocks in the 9x9 array\n",
    "array1 = arr[:3,:3]\n",
    "array2 = arr[3:6,:3]\n",
    "array3 = arr[6:9,:3]\n",
    "array4 = arr[:3,3:6]\n",
    "array5 = arr[3:6,3:6]\n",
    "array6 = arr[6:9,3:6]\n",
    "array7 = arr[:3,6:9]\n",
    "array8 = arr[3:6,6:9]\n",
    "array9 = arr[6:9,6:9]\n",
    "\n",
    "#puts the arrays in an array\n",
    "arrays = [array1, array2, array3, array4, array5, array6, array7, array8, array9]\n",
    "\n",
    "#will find the means to all the arrays and prints them\n",
    "means = [np.mean(array) for array in arrays]\n",
    "\n",
    "for i in range(9):\n",
    "    print('The mean for array', i+1, 'is ', means[i])"
   ]
  },
  {
   "cell_type": "markdown",
   "metadata": {},
   "source": [
    "<h3>Q2.2: What is the maximum value in the array? What is the index of the maximum value?</h3>\n",
    "<h3>Note: use argmax()."
   ]
  },
  {
   "cell_type": "code",
   "execution_count": null,
   "metadata": {},
   "outputs": [],
   "source": [
    "# Answer for Q2.2\n",
    "#np.max will find highest number and np.argmax will find the index of said number\n",
    "print('The highest number is', np.max(arr), 'at index', np.argmax(arr))"
   ]
  },
  {
   "cell_type": "markdown",
   "metadata": {},
   "source": [
    "<h3>Q2.3: What is the minumum value in the array? What is the index of the minumum value?</h3>\n",
    "<h3>Note: use argmin()"
   ]
  },
  {
   "cell_type": "code",
   "execution_count": null,
   "metadata": {},
   "outputs": [],
   "source": [
    "# Answer for Q2.3\n",
    "#np.min will find lowest number and np.argmin will find the index of said number\n",
    "print('The lowest number is', np.min(arr), 'at index', np.argmin(arr))"
   ]
  },
  {
   "cell_type": "markdown",
   "metadata": {},
   "source": [
    "<h3>Q2.4 Swap the positions of the maximum data with the minimum data. Print the array to show the result.</h3>\n",
    "<h3>Hint: you can \"flatten\" the matrix first, make the swap, then reshape it back to 9x9</h3>"
   ]
  },
  {
   "cell_type": "code",
   "execution_count": null,
   "metadata": {},
   "outputs": [],
   "source": [
    "# Answer for Q2.4\n",
    "#This will flatten the array\n",
    "#It is also called pancake array as a pun to the saying \"Flatten like a pancake\" lol.\n",
    "pancakeArray = arr.flatten()\n",
    "\n",
    "\n",
    "maxIndex = np.argmax(pancakeArray) #Finds the index of max value\n",
    "minIndex = np.argmin(pancakeArray) #Finds the index of min value\n",
    "\n",
    "\"\"\"\n",
    "With the use of tuples, we can use that here to swap the numbers around.\n",
    "Trying to switch them seperately will cause the 98 to be only replaced with 0\n",
    "so we have to do the two at the same time.\n",
    "\"\"\"\n",
    "pancakeArray[maxIndex], pancakeArray[minIndex] = pancakeArray[minIndex], pancakeArray[maxIndex]\n",
    "\n",
    "normalArray = pancakeArray.reshape((9, 9)) #Reshapes the flatten array back to a 9x9\n",
    "print(normalArray)"
   ]
  },
  {
   "cell_type": "markdown",
   "metadata": {},
   "source": [
    "## Q3: Linear Algebra (10 points)\n",
    "\n",
    "### Q3.1 Solve the linear system Ax = b using Numpy's linear algebra module. What are x1, x2, and x3?"
   ]
  },
  {
   "cell_type": "markdown",
   "metadata": {},
   "source": [
    "      Eqn (1)   2*x1 -   x2 +   x3 =  -1\n",
    "      Eqn (2)   3*x1 + 3*x2 + 9*x3 =   0\n",
    "      Eqn (3)   3*x1 + 3*x2 + 5*x3 =   4"
   ]
  },
  {
   "cell_type": "code",
   "execution_count": null,
   "metadata": {},
   "outputs": [],
   "source": [
    "# Answer for Q3.1\n",
    "A = np.array([[2, -1, 1], [3, 3, 9], [3, 3, 5]]) #Coeffecents of the left side\n",
    "b = np.array([-1, 0, 4]) #Coeffeciants of the right side\n",
    "\n",
    "x = np.linalg.solve(A, b) #solves the linear equation with np.linalg.solve\n",
    "\n",
    "for i in range(3):\n",
    "    print('x',i+1,'is',x[i])"
   ]
  },
  {
   "cell_type": "markdown",
   "metadata": {},
   "source": [
    "### Q3.2 Compute and print the inverse of the matrix A (call it Ainv). \n",
    "### Then use NumPy to prove the following three identity equations."
   ]
  },
  {
   "cell_type": "markdown",
   "metadata": {},
   "source": [
    "    1. Ainv * A = I, where I is the identity matrix and \"*\" denotes matrix multiplication \n",
    "    \n",
    "    2. A * Ainv = I\n",
    "    \n",
    "    3. Ainv * b = x"
   ]
  },
  {
   "cell_type": "code",
   "execution_count": null,
   "metadata": {},
   "outputs": [],
   "source": [
    "# Answer for Q3.2\n",
    "Ainv = np.linalg.inv(A) #Inverses the matrix\n",
    "id1 = np.dot(Ainv, A) #Uses dot product to multiply the two matricies\n",
    "id2 = np.dot(A, Ainv) #uses dot product to multiply the two matricies\n",
    "x = np.dot(Ainv, b) #multiplies the inversed matrix A with matrix B.\n",
    "\n",
    "#The following are identities.\n",
    "print(id1)\n",
    "print(id2)\n",
    "print(x)"
   ]
  },
  {
   "cell_type": "markdown",
   "metadata": {},
   "source": [
    "<h2> Q4: Exploring the AppStore Dataset (20 points) </h2>\n",
    "\n",
    "With this dataset, we have written some codes to find out different genres and number of apps for each genre. We also did the same for content ratings."
   ]
  },
  {
   "cell_type": "code",
   "execution_count": null,
   "metadata": {},
   "outputs": [],
   "source": [
    "opened_file = open('AppleStore.csv', encoding=\"utf-8\")\n",
    "from csv import reader\n",
    "\n",
    "read_file = reader(opened_file)\n",
    "apps_data = list(read_file)"
   ]
  },
  {
   "cell_type": "markdown",
   "metadata": {},
   "source": [
    "### Q4.1 The price for the app is also a topic of interest. Write codes to answer the following questions:\n",
    "\n",
    "### How many of the applications are free? That is, find out how many applications are priced at $0.0."
   ]
  },
  {
   "cell_type": "code",
   "execution_count": null,
   "metadata": {},
   "outputs": [],
   "source": [
    "# 1. Find out how many apps are free. \n",
    "# Recall that the price column is column 4\n",
    "price_counting = {} #Creates an empty dictionary\n",
    "\n",
    "#Creates counts for us to update the dictionary later\n",
    "freeCount = 0\n",
    "passelse = 0\n",
    "\n",
    "#Will go through the csv and count how many apps are free\n",
    "for row in apps_data[1:]:\n",
    "    price = int(float(row[4]))\n",
    "    if price in price_counting.keys():\n",
    "        if price == 0:\n",
    "            freeCount += 1\n",
    "        else:\n",
    "            passelse = 0\n",
    "    else:\n",
    "        price_counting[price] = 1  \n",
    "\n",
    "#Will print the amount of free apps.       \n",
    "print(\"The amount of free apps:\", freeCount)"
   ]
  },
  {
   "cell_type": "markdown",
   "metadata": {},
   "source": [
    "### Q4.2. What are the three most expensive prices? How much? What are the titles?"
   ]
  },
  {
   "cell_type": "code",
   "execution_count": null,
   "metadata": {},
   "outputs": [],
   "source": [
    "# 2. Find the three priciest apps.\n",
    "\n",
    "\"\"\"\n",
    "Given that we have worked with this data before, we can immediately cut out all the values under\n",
    "$50 as that will be classified as expensive.\n",
    "\"\"\"\n",
    "highPricedApps =[] #creates an empty list\n",
    "\n",
    "#Will go through all the rows and add all the apps higher than $50 to the list.\n",
    "for row in apps_data[1:]:\n",
    "    price = int(float(row[4]))\n",
    "    if price in price_counting.keys():\n",
    "        name = row[1]\n",
    "        if price >= 50:\n",
    "            highPricedApps.append([name, price])\n",
    "        else:\n",
    "            passelse = 0\n",
    "    else:\n",
    "        price_counting[price] = 1  \n",
    "        \n",
    "#Will sort the list from highest to lowest value then print the price and name of the app.\n",
    "highPricedSorted = sorted(highPricedApps, key=lambda highPrice: highPrice[1], reverse=True) \n",
    "print(highPricedSorted[:3])"
   ]
  },
  {
   "cell_type": "code",
   "execution_count": null,
   "metadata": {},
   "outputs": [],
   "source": [
    "# 3. Find the most expensive app(s).\n",
    "\n",
    "\"\"\"\n",
    "Given that we have worked with this data before, we can immediately cut out all the values under\n",
    "$50 as that will be classified as expensive.\n",
    "\"\"\"\n",
    "\n",
    "#The loop will convert the prices to int andthen if the app is over $50 it will print the name of the app.\n",
    "for row in apps_data[1:]:\n",
    "    price = int(float(row[4]))\n",
    "    if price in price_counting.keys():\n",
    "        name = row[1]\n",
    "        if price >= 50:\n",
    "           print(name)\n",
    "        else:\n",
    "            passelse = 0 #It is just used to let the if else statement go through\n",
    "    else:\n",
    "        price_counting[price] = 1 #Does nothing."
   ]
  },
  {
   "cell_type": "code",
   "execution_count": null,
   "metadata": {},
   "outputs": [],
   "source": []
  },
  {
   "cell_type": "markdown",
   "metadata": {},
   "source": [
    "<h2><center>Don't forget to submit a DDF file too.</center></h2>"
   ]
  }
 ],
 "metadata": {
  "kernelspec": {
   "display_name": "Python 3 (ipykernel)",
   "language": "python",
   "name": "python3"
  },
  "language_info": {
   "codemirror_mode": {
    "name": "ipython",
    "version": 3
   },
   "file_extension": ".py",
   "mimetype": "text/x-python",
   "name": "python",
   "nbconvert_exporter": "python",
   "pygments_lexer": "ipython3",
   "version": "3.7.16"
  }
 },
 "nbformat": 4,
 "nbformat_minor": 2
}
